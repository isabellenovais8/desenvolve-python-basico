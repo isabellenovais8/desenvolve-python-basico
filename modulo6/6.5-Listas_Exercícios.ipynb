{
 "cells": [
  {
   "cell_type": "markdown",
   "id": "0d5035b5",
   "metadata": {},
   "source": [
    "# Listas\n",
    "\n",
    "## Aulas 6.1 a 6.5 "
   ]
  },
  {
   "cell_type": "markdown",
   "id": "0bdece85",
   "metadata": {},
   "source": [
    "### Q1. \n",
    "\n",
    "Usando a função embutida ```map``` e criando uma função ```lambda```, transforme uma lista com os raios de múltiplas circunferências em uma nova lista com as respectivas áreas. O cálculo de cada área é dado por: ```pi*(raio**2)```\n",
    "- Use a constante pi da biblioteca math \n",
    "- Arredonde o resultado para 2 casas decimais\n"
   ]
  },
  {
   "cell_type": "code",
   "execution_count": 2,
   "id": "0a258eba",
   "metadata": {},
   "outputs": [
    {
     "name": "stdout",
     "output_type": "stream",
     "text": [
      "Lista antiga: [1.5, 0.8, 2.3, 5.0]\n",
      "Nova lista: [7.07, 2.01, 16.62, 78.54]\n"
     ]
    }
   ],
   "source": [
    "import math\n",
    "\n",
    "raios = [1.5, 0.8, 2.3, 5.0]\n",
    "\n",
    "## Complete a solução\n",
    "\n",
    "raios_nova = list(map(lambda x: round(math.pi * (x**2), 2), raios))\n",
    "print(f\"Lista antiga: {raios}\")\n",
    "\n",
    "print(f\"Nova lista: {raios_nova}\")"
   ]
  },
  {
   "cell_type": "markdown",
   "id": "649a5082",
   "metadata": {},
   "source": [
    "### Q2. \n",
    "\n",
    "Crie uma função customizada e aplique a função embutida ```filter``` para operar em uma lista de listas contendo os lados de múltiplos triângulos. Construa uma nova lista contendo apenas os triângulos equiláteros, ou seja, com os três lados iguais.\n"
   ]
  },
  {
   "cell_type": "code",
   "execution_count": 3,
   "id": "47cb0573",
   "metadata": {},
   "outputs": [
    {
     "name": "stdout",
     "output_type": "stream",
     "text": [
      "Triângulos equiláteros: [[2, 2, 2], [4, 4, 4]]\n"
     ]
    }
   ],
   "source": [
    "## Crie a função customizada\n",
    "def testa_equilatero(lados):\n",
    "    if lados[0] == lados[1] and lados[1] == lados[2]:\n",
    "        return True\n",
    "    return False\n",
    "\n",
    "### Usando filter, aplique a função customizada aos seguintes triangulos\n",
    "triangulos  = [[2,2,2], [3,4,5], [3,2,2], [4,4,4]]\n",
    "triangulos_equilateros = list(filter(testa_equilatero, triangulos))\n",
    "\n",
    "print(f\"Triângulos equiláteros: {triangulos_equilateros}\")"
   ]
  },
  {
   "cell_type": "markdown",
   "id": "bb62d219",
   "metadata": {},
   "source": [
    "### Q3. \n",
    "Crie uma função chamada ```ordena_por_comprimento``` que aceite uma lista de strings e a ordene com base no comprimento das strings, do menor para o maior. Utilize a função ```sorte``` e uma expressão ```lambda```."
   ]
  },
  {
   "cell_type": "code",
   "execution_count": 15,
   "id": "add41556",
   "metadata": {},
   "outputs": [
    {
     "name": "stdout",
     "output_type": "stream",
     "text": [
      "Nomes ordenados: ['Sol', 'Joao', 'Jose', 'Luna', 'Enzo', 'Maria', 'Bento', 'Gabriela', 'Fernanda']\n"
     ]
    }
   ],
   "source": [
    "### crie a função ordena_por_comprimento e retorne a lista resultado\n",
    "def ordena_por_comprimento(lista):\n",
    "    return sorted(lista, key=lambda string: len(string))\n",
    "\n",
    "### aplique sua função à seguinte lista e imprima o resultado\n",
    "nomes = [\"Joao\", \"Maria\", \"Jose\", \"Gabriela\", \"Sol\", \"Luna\", \"Bento\", \"Enzo\", \"Fernanda\"]\n",
    "nomes_ordenados = ordena_por_comprimento(nomes)\n",
    "\n",
    "print(f\"Nomes ordenados: {nomes_ordenados}\")\n"
   ]
  },
  {
   "cell_type": "markdown",
   "id": "8710b1a7",
   "metadata": {},
   "source": [
    "### Q4.\n",
    "\n",
    "Crie uma lista de listas (uma matriz de 2 dimensões) de tamanho $n \\times n$, com $n$ dado pelo usuário. Cada elemento da matriz deve ser o produto dos índices da linha pela coluna.\n",
    "\n",
    "Exemplo:\n",
    "```\n",
    "Digite n: 4\n",
    "Matriz:\n",
    "[[0, 0, 0, 0],\n",
    " [0, 1, 2, 3],\n",
    " [0, 2, 4, 6],\n",
    " [0, 3, 6, 9]]\n",
    "```"
   ]
  },
  {
   "cell_type": "code",
   "execution_count": 17,
   "id": "0b7ee921",
   "metadata": {},
   "outputs": [
    {
     "name": "stdout",
     "output_type": "stream",
     "text": [
      "[0, 0, 0, 0, 0, 0]\n",
      "[0, 1, 2, 3, 4, 5]\n",
      "[0, 2, 4, 6, 8, 10]\n",
      "[0, 3, 6, 9, 12, 15]\n",
      "[0, 4, 8, 12, 16, 20]\n",
      "[0, 5, 10, 15, 20, 25]\n"
     ]
    }
   ],
   "source": [
    "def matriz(n):\n",
    "    matriz = [[0] * n for l in range(n)]\n",
    "    for l in range(n):\n",
    "        for c in range(n):\n",
    "            matriz[l][c] = l * c\n",
    "    \n",
    "    return matriz\n",
    "\n",
    "n = int(input(\"Digite um valor: \"))\n",
    "\n",
    "matriz_final = matriz(n)\n",
    "for quadro in matriz_final:\n",
    "    print(quadro)"
   ]
  },
  {
   "cell_type": "markdown",
   "id": "f41781df",
   "metadata": {},
   "source": [
    "### Q5.\n",
    "\n",
    "Dada uma lista de números inteiros, implemente uma função em Python chamada ```pares_unicos``` que encontre e retorne todos os pares únicos de elementos na lista cuja soma seja igual a um determinado valor. Considere que a ordem dos pares não é relevante."
   ]
  },
  {
   "cell_type": "code",
   "execution_count": 22,
   "id": "7a76f765",
   "metadata": {},
   "outputs": [
    {
     "name": "stdout",
     "output_type": "stream",
     "text": [
      "Pares únicos: [(3, 7), (4, 6)]\n"
     ]
    }
   ],
   "source": [
    "def pares_unicos(numeros, soma_objetivo):\n",
    "    pares = set()\n",
    "    for i, num1 in enumerate(numeros):\n",
    "        for num2 in numeros[i + 1:]:\n",
    "            if num1 + num2 == soma_objetivo:\n",
    "                pares.add((num1, num2))\n",
    "    return list(pares)\n",
    "\n",
    "# Exemplo de uso:\n",
    "nums = [3, 4, 5, 6, 7]\n",
    "soma = 10\n",
    "resultado = pares_unicos(nums, soma)\n",
    "print(f\"Pares únicos: {resultado}\")  # Saída esperada: [(3, 7), (4, 6)]"
   ]
  },
  {
   "cell_type": "markdown",
   "id": "87e44893",
   "metadata": {},
   "source": [
    "### Q5.\n",
    "\n",
    "Escreva um programa para encontrar a diferença entre duas listas, incluindo elementos duplicados.\n",
    "\n",
    "Ex:\n",
    "```\n",
    "Listas originais: \n",
    "[1, 1, 2, 3, 3, 4, 4, 5, 6, 7]\n",
    "[1, 1, 2, 4, 5, 6]\n",
    "Diferença entre as listas:\n",
    "[3, 3, 4, 7]\n",
    "```"
   ]
  },
  {
   "cell_type": "code",
   "execution_count": 3,
   "id": "7edc027c",
   "metadata": {},
   "outputs": [
    {
     "name": "stdout",
     "output_type": "stream",
     "text": [
      "Diferença entre as listas: [3, 3, 4, 7]\n"
     ]
    }
   ],
   "source": [
    "def encontre_diferenca(lista1, lista2):\n",
    "    l1 = {}\n",
    "    l2 = {}\n",
    "    \n",
    "    #Conta os elementos na lista\n",
    "    for i in lista1:\n",
    "        l1[i] = l1.get(i, 0) + 1\n",
    "\n",
    "    #Conta os elementos na lista\n",
    "    for j in lista2:\n",
    "        l2[j] = l2.get(j, 0) + 1\n",
    "\n",
    "    #Calcula a diferença nas listas\n",
    "    diferenca = []\n",
    "    for x in l1:\n",
    "        if x in l2:\n",
    "            diferenca.extend([x] * (l1[x] - l2[x]))\n",
    "        else:\n",
    "            diferenca.extend([x] * l1[x])\n",
    "    \n",
    "    return diferenca\n",
    "\n",
    "lista1 = [1, 1, 2, 3, 3, 4, 4, 5, 6, 7]\n",
    "lista2 = [1, 1, 2, 4, 5, 6]\n",
    "\n",
    "dif_listas = encontre_diferenca(lista1, lista2)\n",
    "print(f\"Diferença entre as listas: {dif_listas}\")"
   ]
  },
  {
   "cell_type": "markdown",
   "id": "f4c4236d",
   "metadata": {},
   "source": [
    "### Q6.\n",
    "\n",
    "Dada uma lista aleatória, escreva um programa que separa os valores em listas menores de acordo com o tamanho solicitado. Caso não seja possível repartir igualmente a lista original, a última sublista deve conter os elementos remanescentes, como indicado no exemplo a seguir.\n",
    "\n",
    "Note que seu programa deve continuar executando em um laço infinito até que o usuário informe o tamanho 0 na entrada solicitada.\n",
    "\n",
    "```\n",
    "Lista original:\n",
    "[12, 45, 23, 67, 78, 90, 45, 32, 100, 76, 38, 62, 73, 29, 83]\n",
    "\n",
    "Tamanho para divisão: 3\n",
    "Subslistas:\n",
    "[[12, 45, 23], [67, 78, 90], [45, 32, 100], [76, 38, 62], [73, 29, 83]]\n",
    "\n",
    "Tamanho para divisão: 4\n",
    "Subslistas: [[12, 45, 23, 67], [78, 90, 45, 32], [100, 76, 38, 62], [73, 29, 83]]\n",
    "\n",
    "Tamanho para divisão: 0\n",
    "```"
   ]
  },
  {
   "cell_type": "code",
   "execution_count": 1,
   "id": "792563de",
   "metadata": {},
   "outputs": [
    {
     "name": "stdout",
     "output_type": "stream",
     "text": [
      "Lista original: [20, 97, 89, 70, 99, 36, 29, 42, 63, 15, 66, 85, 63, 15, 56, 16, 71, 80, 70, 60]\n",
      "Sublistas geradas: [[20, 97, 89], [70, 99, 36], [29, 42, 63], [15, 66, 85], [63, 15, 56], [16, 71, 80], [70, 60]]\n",
      "----------\n",
      "Lista original: [20, 97, 89, 70, 99, 36, 29, 42, 63, 15, 66, 85, 63, 15, 56, 16, 71, 80, 70, 60]\n",
      "Sublistas geradas: [[20, 97], [89, 70], [99, 36], [29, 42], [63, 15], [66, 85], [63, 15], [56, 16], [71, 80], [70, 60]]\n",
      "----------\n",
      "Lista original: [20, 97, 89, 70, 99, 36, 29, 42, 63, 15, 66, 85, 63, 15, 56, 16, 71, 80, 70, 60]\n",
      "Sublistas geradas: [[20, 97, 89, 70, 99, 36, 29, 42, 63, 15], [66, 85, 63, 15, 56, 16, 71, 80, 70, 60]]\n",
      "----------\n"
     ]
    }
   ],
   "source": [
    "import random\n",
    "\n",
    "def divide_lista(lista, tamanho):\n",
    "    sublistas = []\n",
    "    i = 0\n",
    "    while i < len(lista):\n",
    "        sublista = lista[i:i + tamanho]\n",
    "        sublistas.append(sublista)\n",
    "        i += tamanho\n",
    "    return sublistas\n",
    "\n",
    "lista_original = [random.randint(1,100) for i in range(20)]\n",
    "\n",
    "# Implemente sua solução aqui\n",
    "while True:\n",
    "    tamanho = int(input(\"Tamanho para divisão: \"))\n",
    "    if tamanho == 0:\n",
    "        break\n",
    "    sublistas_finais = divide_lista(lista_original, tamanho)\n",
    "    print(f\"Lista original: {lista_original}\")\n",
    "    print(f\"Sublistas geradas: {sublistas_finais}\")\n",
    "    print(\"----------\")"
   ]
  },
  {
   "cell_type": "markdown",
   "id": "c65be32f",
   "metadata": {},
   "source": [
    "### Q7.\n",
    "\n",
    "Você está desenvolvendo um programa para determinar o vencedor de um jogo da velha. Escreva uma função ```avalia_tabuleiro()``` que recebe uma lista representando o estado atual do tabuleiro e determina se há um vencedor. \n",
    "\n",
    "A lista terá 3 sublistas, cada uma representando uma linha do tabuleiro. Cada elemento das sublistas pode ser 'X', 'O' ou vazio (' ').\n",
    "\n",
    "O programa deve imprimir o vencedor ('X', 'O'), se houver um, ou \"Empate\" se não houver vencedor. Um vencedor é determinado se houver três 'X' ou três 'O' em linha (horizontal, vertical ou diagonal).\n",
    "\n",
    "Exemplo:\n",
    "```python\n",
    "tabuleiro = [\n",
    "    ['X', 'O', 'X'],\n",
    "    [' ', 'X', 'O'],\n",
    "    ['O', ' ', 'O']\n",
    "]\n",
    "```\n",
    "O resultado seria \"Empate\", pois não há um vencedor no exemplo fornecido. \n",
    "\n",
    "Exemplo 2:\n",
    "```python\n",
    "tabuleiro = [\n",
    "    ['O', 'X', 'O'],\n",
    "    ['X', 'O', 'X'],\n",
    "    ['X', ' ', 'O']\n",
    "]\n",
    "```\n",
    "O resultado seria \"O\", pois 'O' venceu na diagonal central."
   ]
  },
  {
   "cell_type": "code",
   "execution_count": 4,
   "id": "720ca24d",
   "metadata": {},
   "outputs": [
    {
     "name": "stdout",
     "output_type": "stream",
     "text": [
      "X\n",
      "X\n",
      "Empate\n",
      "O\n",
      "Empate\n"
     ]
    }
   ],
   "source": [
    "### Escreva a função avalia_tabuleiro()\n",
    "def avalia_tabuleiro(tabuleiro):\n",
    "    for i in range(3):\n",
    "        #Verifica as linhas do tabuleiro\n",
    "        if tabuleiro[i][0] == tabuleiro[i][1] == tabuleiro[i][2] != ' ':\n",
    "            return tabuleiro[i][0]\n",
    "        #Verifica as colunas do tabuleiro\n",
    "        if tabuleiro[0][i] == tabuleiro[1][i] == tabuleiro[2][i] != ' ':\n",
    "            return tabuleiro[0][i]\n",
    "    \n",
    "    #Verifica as diagonais do tabuleiro\n",
    "    if tabuleiro[0][0] == tabuleiro[1][1] == tabuleiro[2][2] != ' ':\n",
    "        return tabuleiro[0][0]\n",
    "    if tabuleiro[0][2] == tabuleiro[1][1] == tabuleiro[2][0] != ' ':\n",
    "        return tabuleiro[0][2]\n",
    "    \n",
    "    #Em caso de empate\n",
    "    return \"Empate\"\n",
    "\n",
    "\n",
    "### teste a função nos seguintes tabuleiros\n",
    "\n",
    "tabuleiro1 = [\n",
    "    ['X', 'O', 'X'],\n",
    "    [' ', 'X', 'O'],\n",
    "    ['O', ' ', 'X']\n",
    "]\n",
    "\n",
    "print(avalia_tabuleiro(tabuleiro1))\n",
    "\n",
    "tabuleiro2 = [\n",
    "    ['X', 'O', 'O'],\n",
    "    ['X', 'X', 'O'],\n",
    "    ['X', 'O', 'X']\n",
    "]\n",
    "\n",
    "print(avalia_tabuleiro(tabuleiro2))\n",
    "\n",
    "tabuleiro3 = [\n",
    "    [' ', ' ', ' '],\n",
    "    ['X', ' ', 'O'],\n",
    "    ['O', 'X', 'X']\n",
    "]\n",
    "\n",
    "print(avalia_tabuleiro(tabuleiro3))\n",
    "\n",
    "tabuleiro4 = [\n",
    "    ['O', 'O', 'O'],\n",
    "    ['X', ' ', 'X'],\n",
    "    ['O', 'X', 'X']\n",
    "]\n",
    "\n",
    "print(avalia_tabuleiro(tabuleiro4))\n",
    "\n",
    "tabuleiro5 = [\n",
    "    ['X', 'X', 'O'],\n",
    "    ['X', ' ', 'O'],\n",
    "    ['O', 'O', 'X']\n",
    "]\n",
    "\n",
    "print(avalia_tabuleiro(tabuleiro5))"
   ]
  }
 ],
 "metadata": {
  "kernelspec": {
   "display_name": "Python 3 (ipykernel)",
   "language": "python",
   "name": "python3"
  },
  "language_info": {
   "codemirror_mode": {
    "name": "ipython",
    "version": 3
   },
   "file_extension": ".py",
   "mimetype": "text/x-python",
   "name": "python",
   "nbconvert_exporter": "python",
   "pygments_lexer": "ipython3",
   "version": "3.12.3"
  }
 },
 "nbformat": 4,
 "nbformat_minor": 5
}
