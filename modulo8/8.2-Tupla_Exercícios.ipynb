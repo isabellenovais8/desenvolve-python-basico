{
 "cells": [
  {
   "cell_type": "markdown",
   "id": "0d5035b5",
   "metadata": {},
   "source": [
    "# Tupla\n",
    "\n",
    "## Aula 8.2"
   ]
  },
  {
   "cell_type": "markdown",
   "id": "0bdece85",
   "metadata": {},
   "source": [
    "### Q1. \n",
    "\n",
    "Escreva uma função ```calcula_area_perimetro``` que recebe **apenas um parâmetro** ```dimensoes``` e calcula a área e o perímetro a partir das dimensões dadas. \n",
    "- ```dimensoes``` é uma tupla (largura, comprimento) com as dimensões de um terreno retangular\n",
    "- Sua função deve calcular e retornar as seguintes operações\n",
    "   - $area = largura \\times comprimento$\n",
    "   - $perimetro = 2\\times(largura + comprimento)$\n"
   ]
  },
  {
   "cell_type": "code",
   "execution_count": 10,
   "id": "0a258eba",
   "metadata": {},
   "outputs": [
    {
     "name": "stdout",
     "output_type": "stream",
     "text": [
      "(35, 24) <class 'tuple'>\n"
     ]
    }
   ],
   "source": [
    "# Implemente aqui a função calcula_area_perimetro\n",
    "def calcula_area_perimetro(dimensoes):\n",
    "    largura, comprimento = dimensoes\n",
    "    area = largura * comprimento\n",
    "    perimetro = 2 * (largura + comprimento)\n",
    "    return area, perimetro\n",
    "\n",
    "# Complete o exemplo de uso abaixo\n",
    "largura = 5\n",
    "comprimento = 7\n",
    "\n",
    "dimensoes = (largura, comprimento)\n",
    "\n",
    "retorno = calcula_area_perimetro(dimensoes)\n",
    "print(retorno, type(retorno))"
   ]
  },
  {
   "cell_type": "markdown",
   "id": "cbdcb986",
   "metadata": {},
   "source": [
    "### Q2.\n",
    "\n",
    "Dada uma string, imprima todas as vogais que aparecem na string, bem como todos os índices onde elas ocorrem. Para isso, use a função ```enumerate```.\n"
   ]
  },
  {
   "cell_type": "code",
   "execution_count": 5,
   "id": "1f6b1f2d",
   "metadata": {},
   "outputs": [
    {
     "name": "stdout",
     "output_type": "stream",
     "text": [
      "A vogal 'O' aparece no índice 0\n",
      "A vogal 'a' aparece no índice 3\n",
      "A vogal 'o' aparece no índice 5\n",
      "A vogal 'o' aparece no índice 8\n",
      "A vogal 'e' aparece no índice 9\n",
      "A vogal 'u' aparece no índice 10\n",
      "A vogal 'a' aparece no índice 12\n",
      "A vogal 'o' aparece no índice 15\n",
      "A vogal 'u' aparece no índice 16\n",
      "A vogal 'a' aparece no índice 18\n",
      "A vogal 'a' aparece no índice 21\n",
      "A vogal 'A' aparece no índice 23\n",
      "A vogal 'i' aparece no índice 25\n",
      "A vogal 'e' aparece no índice 27\n"
     ]
    }
   ],
   "source": [
    "frase = \"O rato roeu a roupa da Alice\"\n",
    "\n",
    "# Implemente aqui sua solução\n",
    "vogais_e_indices = []\n",
    "\n",
    "for indice, caractere in enumerate(frase):\n",
    "    if caractere.lower() in \"aeiou\":\n",
    "        vogais_e_indices.append((caractere, indice))\n",
    "\n",
    "for vogal, indice in vogais_e_indices:\n",
    "    print(f\"A vogal '{vogal}' aparece no índice {indice}\")\n"
   ]
  },
  {
   "cell_type": "markdown",
   "id": "8d46663f",
   "metadata": {},
   "source": [
    "### Q3.\n",
    "\n",
    "Escreva uma função em Python chamada ```ordenar_tuplas``` que recebe uma lista de tuplas, cada uma contendo o nome de um aluno e sua respectiva média, e retorna uma nova lista ordenada em ordem decrescente de médias."
   ]
  },
  {
   "cell_type": "code",
   "execution_count": 7,
   "id": "469f2e6e",
   "metadata": {},
   "outputs": [
    {
     "name": "stdout",
     "output_type": "stream",
     "text": [
      "[('Charlie', 9.0), ('David', 8.8), ('Alice', 8.5), ('Bob', 7.2)]\n"
     ]
    }
   ],
   "source": [
    "# Implemente aqui a função ordenar_tuplas\n",
    "def ordenar_tuplas(lista_de_tuplas):\n",
    "    lista_ordenada = sorted(lista_de_tuplas, key=lambda tupla: tupla[1], reverse=True)\n",
    "    return lista_ordenada\n",
    "\n",
    "# Exemplo de uso:\n",
    "alunos_notas = [('Alice', 8.5), ('Bob', 7.2), ('Charlie', 9.0), ('David', 8.8)]\n",
    "resultado = ordenar_tuplas(alunos_notas)\n",
    "print(resultado)"
   ]
  },
  {
   "cell_type": "markdown",
   "id": "e0268fae",
   "metadata": {},
   "source": [
    "### Q4.\n",
    "\n",
    "Escreva uma função em Python chamada ```comprimir_tuplas``` que recebe uma lista de tuplas, cada uma contendo uma palavra e um número, e retorna uma nova lista de tuplas onde palavras idênticas são agrupadas e seus números são somados.\n",
    "\n"
   ]
  },
  {
   "cell_type": "code",
   "execution_count": 11,
   "id": "30a221f3",
   "metadata": {},
   "outputs": [
    {
     "name": "stdout",
     "output_type": "stream",
     "text": [
      "[('maçã', 8), ('banana', 5), ('laranja', 1)]\n"
     ]
    }
   ],
   "source": [
    "# Implemente aqui a função comprimir_tuplas\n",
    "def comprimir_tuplas(tuplas):\n",
    "    soma_por_palavra = {}\n",
    "    \n",
    "    for palavra, numero in tuplas:\n",
    "        if palavra in soma_por_palavra:\n",
    "            soma_por_palavra[palavra] += numero\n",
    "        else:\n",
    "            soma_por_palavra[palavra] = numero\n",
    "    \n",
    "    resultado = [(palavra, soma) for palavra, soma in soma_por_palavra.items()]\n",
    "    \n",
    "    return resultado\n",
    "\n",
    "tuplas_originais = [('maçã', 3), ('banana', 2), ('maçã', 5), ('laranja', 1), ('banana', 3)]\n",
    "resultado = comprimir_tuplas(tuplas_originais)\n",
    "print(resultado)"
   ]
  },
  {
   "cell_type": "markdown",
   "id": "649a5082",
   "metadata": {},
   "source": [
    "### Q5. \n",
    "\n",
    "- Escreva um script que peça o nome e a idade de todos na fila de uma balada. Crie uma lista de tuplas com os pares ```(nome, idade)``` de cada um. \n",
    "- Em seguida crie e imprima duas tuplas apenas com os nomes, uma com os menores de idade que não poderão entrar, e uma com os maiores de idade (```idade >= 18```). \n",
    "\n"
   ]
  },
  {
   "cell_type": "code",
   "execution_count": 12,
   "id": "47cb0573",
   "metadata": {},
   "outputs": [
    {
     "name": "stdout",
     "output_type": "stream",
     "text": [
      "Menores de idade: ('Luiza',)\n",
      "Maiores de idade: ('Isabelle', 'Tais')\n"
     ]
    }
   ],
   "source": [
    "## Implemente aqui sua solução\n",
    "fila_balada = []\n",
    "\n",
    "while True:\n",
    "    nome = input(\"Digite o nome da pessoa (ou 'sair' para encerrar): \")\n",
    "    if nome.lower() == 'sair':\n",
    "        break\n",
    "    idade = int(input(\"Digite a idade de {} (em anos): \".format(nome)))\n",
    "    fila_balada.append((nome, idade))\n",
    "\n",
    "menores_de_idade = []\n",
    "maiores_de_idade = []\n",
    "\n",
    "for nome, idade in fila_balada:\n",
    "    if idade < 18:\n",
    "        menores_de_idade.append(nome)\n",
    "    else:\n",
    "        maiores_de_idade.append(nome)\n",
    "\n",
    "print(\"Menores de idade:\", tuple(menores_de_idade))\n",
    "print(\"Maiores de idade:\", tuple(maiores_de_idade))"
   ]
  }
 ],
 "metadata": {
  "kernelspec": {
   "display_name": "Python 3 (ipykernel)",
   "language": "python",
   "name": "python3"
  },
  "language_info": {
   "codemirror_mode": {
    "name": "ipython",
    "version": 3
   },
   "file_extension": ".py",
   "mimetype": "text/x-python",
   "name": "python",
   "nbconvert_exporter": "python",
   "pygments_lexer": "ipython3",
   "version": "3.12.3"
  }
 },
 "nbformat": 4,
 "nbformat_minor": 5
}
